{
 "cells": [
  {
   "cell_type": "code",
   "execution_count": 2,
   "metadata": {},
   "outputs": [
    {
     "name": "stdout",
     "output_type": "stream",
     "text": [
      "Performing interactive authentication. Please follow the instructions on the terminal.\n"
     ]
    },
    {
     "name": "stderr",
     "output_type": "stream",
     "text": [
      "Note, we have launched a browser for you to login. For old experience with device code, use \"az login --use-device-code\"\n"
     ]
    },
    {
     "name": "stdout",
     "output_type": "stream",
     "text": [
      "You have logged in. Now let us find all the subscriptions to which you have access...\n",
      "Interactive authentication successfully completed.\n"
     ]
    }
   ],
   "source": [
    "from azureml.core import Workspace\n",
    "ws = Workspace.from_config()"
   ]
  },
  {
   "cell_type": "code",
   "execution_count": null,
   "metadata": {},
   "outputs": [],
   "source": [
    "from azureml.core import ComputeTarget\n",
    "\n",
    "# name for your cluster\n",
    "cpu_cluster_name = \"ibrahim1\"\n",
    "\n",
    "# check if cluster already exists\n",
    "cpu_cluster = ComputeTarget(workspace=ws, name=cpu_cluster_name)\n",
    "print('Found existing cluster, use it.')"
   ]
  },
  {
   "cell_type": "code",
   "execution_count": null,
   "metadata": {},
   "outputs": [],
   "source": [
    "from azureml.core import Environment\n",
    "\n",
    "env = Environment('lss')\n",
    "env.docker.base_dockerfile = './Dockerfile' # path to your dockerfile"
   ]
  },
  {
   "cell_type": "code",
   "execution_count": null,
   "metadata": {},
   "outputs": [],
   "source": [
    "from azureml.core import Dataset\n",
    "\n",
    "datastore = ws.datastores['mini']\n",
    "dataset = Dataset.File.from_files(path=(datastore, '/'))"
   ]
  },
  {
   "cell_type": "code",
   "execution_count": null,
   "metadata": {},
   "outputs": [],
   "source": [
    "from azureml.core import ScriptRunConfig\n",
    "from azureml.data import OutputFileDatasetConfig\n",
    "\n",
    "from azureml.core import Experiment\n",
    "\n",
    "\n",
    "arguments=[dataset.as_mount()]\n",
    "print(arguments)\n",
    "config = ScriptRunConfig(source_directory='.',\n",
    "                            script='train_az.py',\n",
    "                            compute_target=cpu_cluster,\n",
    "                            environment=env,\n",
    "                            arguments=arguments\n",
    "                            )\n",
    "\n",
    "exp = Experiment(ws, 'test1')\n",
    "run = exp.submit(config)\n",
    "print(run)\n",
    "run.wait_for_completion(show_output=True)"
   ]
  }
 ],
 "metadata": {
  "interpreter": {
   "hash": "86690d39d28a98903103ee75e9cc8ef3c223c6291feb93f8e24b94a6d4a9c844"
  },
  "kernelspec": {
   "display_name": "Python 3.7.11 64-bit ('lift-splat-shoot': conda)",
   "name": "python3"
  },
  "language_info": {
   "codemirror_mode": {
    "name": "ipython",
    "version": 3
   },
   "file_extension": ".py",
   "mimetype": "text/x-python",
   "name": "python",
   "nbconvert_exporter": "python",
   "pygments_lexer": "ipython3",
   "version": "3.7.11"
  },
  "orig_nbformat": 4
 },
 "nbformat": 4,
 "nbformat_minor": 2
}
