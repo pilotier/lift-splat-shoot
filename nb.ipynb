{
 "cells": [
  {
   "cell_type": "code",
   "execution_count": 3,
   "metadata": {},
   "outputs": [
    {
     "name": "stdout",
     "output_type": "stream",
     "text": [
      "d:\\Projects\\lift-splat-shoot\\./output\n",
      "['eval000000_000.jpg', 'eval000000_001.jpg', 'eval000000_002.jpg', 'eval000000_003.jpg', 'eval000001_000.jpg', 'eval000001_001.jpg', 'eval000001_002.jpg', 'eval000001_003.jpg', 'eval000002_000.jpg', 'eval000002_001.jpg', 'eval000002_002.jpg', 'eval000002_003.jpg', 'eval000003_000.jpg', 'eval000003_001.jpg', 'eval000003_002.jpg', 'eval000003_003.jpg', 'eval000004_000.jpg', 'eval000004_001.jpg', 'eval000004_002.jpg', 'eval000004_003.jpg', 'eval000005_000.jpg', 'eval000005_001.jpg', 'eval000005_002.jpg', 'eval000005_003.jpg', 'eval000006_000.jpg', 'eval000006_001.jpg', 'eval000006_002.jpg', 'eval000006_003.jpg', 'eval000007_000.jpg', 'eval000007_001.jpg', 'eval000007_002.jpg', 'eval000007_003.jpg', 'eval000008_000.jpg', 'eval000008_001.jpg', 'eval000008_002.jpg', 'eval000008_003.jpg', 'eval000009_000.jpg', 'eval000009_001.jpg', 'eval000009_002.jpg', 'eval000009_003.jpg', 'eval000010_000.jpg', 'eval000010_001.jpg', 'eval000010_002.jpg', 'eval000010_003.jpg', 'eval000011_000.jpg', 'eval000011_001.jpg', 'eval000011_002.jpg', 'eval000011_003.jpg', 'eval000012_000.jpg', 'eval000012_001.jpg', 'eval000012_002.jpg', 'eval000012_003.jpg', 'eval000013_000.jpg', 'eval000013_001.jpg', 'eval000013_002.jpg', 'eval000013_003.jpg', 'eval000014_000.jpg', 'eval000014_001.jpg', 'eval000014_002.jpg', 'eval000014_003.jpg', 'eval000015_000.jpg']\n"
     ]
    }
   ],
   "source": [
    "from src.tools import generate_video_from_imgs\n",
    "\n",
    "generate_video_from_imgs(\"./output\", \".jpg\")"
   ]
  }
 ],
 "metadata": {
  "interpreter": {
   "hash": "86690d39d28a98903103ee75e9cc8ef3c223c6291feb93f8e24b94a6d4a9c844"
  },
  "kernelspec": {
   "display_name": "Python 3.7.11 64-bit ('lift-splat-shoot': conda)",
   "name": "python3"
  },
  "language_info": {
   "codemirror_mode": {
    "name": "ipython",
    "version": 3
   },
   "file_extension": ".py",
   "mimetype": "text/x-python",
   "name": "python",
   "nbconvert_exporter": "python",
   "pygments_lexer": "ipython3",
   "version": "3.7.11"
  },
  "orig_nbformat": 4
 },
 "nbformat": 4,
 "nbformat_minor": 2
}
